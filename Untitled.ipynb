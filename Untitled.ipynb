{
 "cells": [
  {
   "cell_type": "code",
   "execution_count": null,
   "id": "9c2c65f5",
   "metadata": {},
   "outputs": [],
   "source": [
    "# Dependencies\n",
    "import pandas as pd\n",
    "import numpy as np\n",
    "import matplotlib.pyplot as plt\n",
    "\n"
   ]
  },
  {
   "cell_type": "code",
   "execution_count": null,
   "id": "b622808b",
   "metadata": {},
   "outputs": [],
   "source": [
    "file_to_load = os.path.join(\"donors2008.csv\")"
   ]
  },
  {
   "cell_type": "code",
   "execution_count": null,
   "id": "520f578c",
   "metadata": {},
   "outputs": [],
   "source": []
  },
  {
   "cell_type": "code",
   "execution_count": null,
   "id": "97893b67",
   "metadata": {},
   "outputs": [],
   "source": [
    "# Create graph\n",
    "x_axis = np.arange(len(df))\n",
    "tick_locations = [value for value in 'horizontal']\n",
    "plt.figure(figsize=(20,3))\n",
    "plt.bar(Response area,Response area)\n",
    "plt.xticks(tick_locations,Response area, rotation=Response area)\n",
    "plt.title(\"Rain in Inches by State\")\n",
    "plt.xlabel(\"State\")\n",
    "plt.ylabel(\"Rain (inches)\")\n",
    "plt.show()"
   ]
  },
  {
   "cell_type": "code",
   "execution_count": null,
   "id": "44744af2",
   "metadata": {},
   "outputs": [],
   "source": []
  },
  {
   "cell_type": "code",
   "execution_count": null,
   "id": "b4e23014",
   "metadata": {},
   "outputs": [],
   "source": []
  }
 ],
 "metadata": {
  "kernelspec": {
   "display_name": "Python 3 (ipykernel)",
   "language": "python",
   "name": "python3"
  },
  "language_info": {
   "codemirror_mode": {
    "name": "ipython",
    "version": 3
   },
   "file_extension": ".py",
   "mimetype": "text/x-python",
   "name": "python",
   "nbconvert_exporter": "python",
   "pygments_lexer": "ipython3",
   "version": "3.7.13"
  }
 },
 "nbformat": 4,
 "nbformat_minor": 5
}
